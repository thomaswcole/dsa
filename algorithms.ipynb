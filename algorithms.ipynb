{
 "cells": [
  {
   "cell_type": "markdown",
   "metadata": {},
   "source": [
    "## Trees"
   ]
  },
  {
   "cell_type": "markdown",
   "metadata": {},
   "source": [
    "### Traversal"
   ]
  },
  {
   "cell_type": "markdown",
   "metadata": {},
   "source": [
    "*Depth-First Search*"
   ]
  },
  {
   "cell_type": "code",
   "execution_count": 12,
   "metadata": {},
   "outputs": [],
   "source": [
    "def dfs_pre(node):\n",
    "    if not node:\n",
    "        return\n",
    "    print(node.val)\n",
    "    dfs_pre(node.left)\n",
    "    dfs_pre(node.right)\n",
    "\n",
    "def dfs_in(node):\n",
    "    if not node:\n",
    "        return \n",
    "    dfs_in(node.left)\n",
    "    print(node.val)\n",
    "    dfs_in(node.right)\n",
    "\n",
    "def dfs_post(node):\n",
    "    if not node:\n",
    "        return\n",
    "    dfs_post(node.left)\n",
    "    dfs_post(node.right)\n",
    "    print(node.val)"
   ]
  },
  {
   "cell_type": "markdown",
   "metadata": {},
   "source": [
    "*Iterative Depth-First Search*"
   ]
  },
  {
   "cell_type": "code",
   "execution_count": null,
   "metadata": {},
   "outputs": [],
   "source": [
    "# TIME: O(N), SPACE: O(N)\n",
    "def inorder(root):\n",
    "    stack = []\n",
    "    curr = root\n",
    "    while curr or stack:\n",
    "        if curr:\n",
    "            stack.append(curr)\n",
    "            curr = curr.left\n",
    "        else:\n",
    "            curr = stack.pop()\n",
    "            print(curr.val)\n",
    "            curr = curr.right\n",
    "\n",
    "def preorder(root):\n",
    "    stack = []\n",
    "    curr = root\n",
    "    while curr or stack:\n",
    "        if curr:\n",
    "            print(curr.val)\n",
    "            if curr.right:\n",
    "                stack.append(curr.right)\n",
    "            curr = curr.left\n",
    "        else:\n",
    "            curr = stack.pop()\n",
    "\n",
    "def postorder(root):\n",
    "    stack = [root]\n",
    "    visit = [False]\n",
    "    while stack:\n",
    "        curr = stack.pop()\n",
    "        visited = visit.pop()\n",
    "        if curr:\n",
    "            if visited:\n",
    "                print(curr.val)\n",
    "            else:\n",
    "                stack.append(curr)\n",
    "                visit.append(True)\n",
    "\n",
    "                # We want to pop left first, thus add it after right.\n",
    "                stack.append(curr.right)\n",
    "                visit.append(False)\n",
    "\n",
    "                stack.append(curr.left)\n",
    "                visit.append(False)\n",
    "    pass"
   ]
  },
  {
   "cell_type": "markdown",
   "metadata": {},
   "source": [
    "*Breadth-First Search*"
   ]
  },
  {
   "cell_type": "code",
   "execution_count": 13,
   "metadata": {},
   "outputs": [],
   "source": [
    "from collections import deque\n",
    "def bfs(node):\n",
    "    q = deque()\n",
    "    q.append(node)\n",
    "    lvl = 0\n",
    "    levels = {}\n",
    "    while q:\n",
    "\n",
    "        curr = []\n",
    "        for _ in range(len(q)):\n",
    "            node = q.popleft()\n",
    "            curr.append(node.val)\n",
    "            if node.left:\n",
    "                q.append(node.left)\n",
    "            if node.right:\n",
    "                q.append(node.right)\n",
    "        levels[lvl] = curr\n",
    "        lvl += 1\n",
    "    return levels"
   ]
  },
  {
   "cell_type": "markdown",
   "metadata": {},
   "source": [
    "### Union-Find"
   ]
  },
  {
   "cell_type": "code",
   "execution_count": 14,
   "metadata": {},
   "outputs": [],
   "source": [
    "class UnionFind:\n",
    "    def __init__(self,n):\n",
    "        self.par = {}\n",
    "        self.rank = {}\n",
    "        for i in range(1,n+1):\n",
    "            self.par[i] = i\n",
    "            self.rank[i] = 0\n",
    "\n",
    "    def find(self,n):\n",
    "        # Find root of parent\n",
    "        if n != self.par[n]:\n",
    "            self.par[n] = self.find(self.par[n]) # path compression\n",
    "        return self.par[n]\n",
    "    \n",
    "    def union(self,n1,n2):\n",
    "        p1 = self.find(n1)\n",
    "        p2 = self.find(n2)\n",
    "        if p1 == p2:\n",
    "            return False\n",
    "        \n",
    "        # union by rank\n",
    "        if self.rank[p1] > self.rank[p2]:\n",
    "            self.par[p2] = p1\n",
    "        elif self.rank[p1] < self.rank[p2]:\n",
    "            self.par[p1] = p2\n",
    "        else:\n",
    "            self.par[p1] = p2\n",
    "            self.rank[p2] += 1\n",
    "        return True"
   ]
  },
  {
   "cell_type": "markdown",
   "metadata": {},
   "source": [
    "### Segment-Tree\n",
    "\n",
    "* Wanting to get the range sum of an array while being able to update the values."
   ]
  },
  {
   "cell_type": "code",
   "execution_count": 16,
   "metadata": {},
   "outputs": [],
   "source": [
    "class SegmentTree:\n",
    "    def __init__(self,total,L,R):\n",
    "        self.sum = total\n",
    "        self.left = None\n",
    "        self.right = None\n",
    "        self.L = L\n",
    "        self.R = R\n",
    "        \n",
    "    @staticmethod\n",
    "    def build(nums,L,R):\n",
    "        if L == R:\n",
    "            return SegmentTree(nums[L],L,R)\n",
    "        M = (L+R) // 2\n",
    "        root = SegmentTree(0,L,R)\n",
    "        root.left = SegmentTree.build(nums,L,M)\n",
    "        root.right = SegmentTree.build(nums,M+1,R)\n",
    "        root.sum = root.left.sum + root.right.sum \n",
    "        return root\n",
    "    \n",
    "    def update(self,index,val):\n",
    "        if self.L == self.R:\n",
    "            self.sum = val\n",
    "            return\n",
    "        M = (self.L + self.R) // 2\n",
    "        if index > M:\n",
    "            self.right.update(index,val)\n",
    "        else:\n",
    "            self.left.update(index,val)\n",
    "        self.sum = self.left.sum + self.right.sum \n",
    "    \n",
    "    def rangeQuery(self,L,R):\n",
    "        if L == self.L and R == self.R:\n",
    "            return self.sum \n",
    "        M = (self.L + self.R) // 2\n",
    "        if L > M: # all on right side\n",
    "            return self.right.rangeQuery(L,R)\n",
    "        elif R <= M: # all on left side\n",
    "            return self.left.rangeQuery(L,R)\n",
    "        else:\n",
    "            return self.left.rangeQuery(L,M) + self.right.rangeQuery(M+1,R)"
   ]
  },
  {
   "cell_type": "markdown",
   "metadata": {},
   "source": [
    "## Graphs"
   ]
  },
  {
   "cell_type": "markdown",
   "metadata": {},
   "source": [
    "### *Adjaceny List*"
   ]
  },
  {
   "cell_type": "markdown",
   "metadata": {},
   "source": [
    "*Depth-First Search*"
   ]
  },
  {
   "cell_type": "code",
   "execution_count": 5,
   "metadata": {},
   "outputs": [],
   "source": [
    "def dfs(v,adj,visit):\n",
    "    if v in visit:\n",
    "        return \n",
    "    \n",
    "    visit.add(v)\n",
    "    for nei in adj[v]:\n",
    "        dfs(nei,adj,visit)\n",
    "    visit.remove(v)\n",
    "    return "
   ]
  },
  {
   "cell_type": "markdown",
   "metadata": {},
   "source": [
    "*Breadth-First Search*"
   ]
  },
  {
   "cell_type": "code",
   "execution_count": 7,
   "metadata": {},
   "outputs": [],
   "source": [
    "from collections import deque\n",
    "\n",
    "def bfs(v,adj):\n",
    "    q = deque()\n",
    "    visit = set()\n",
    "    q.append(v)\n",
    "    q.append(v)\n",
    "    while q:\n",
    "        for _ in range(len(q)):\n",
    "            node = q.popleft()\n",
    "            for nei in adj[node]:\n",
    "                if nei not in visit:\n",
    "                    visit.add(nei)\n",
    "                    q.append(nei)\n",
    "    return \n",
    "    \n"
   ]
  },
  {
   "cell_type": "markdown",
   "metadata": {},
   "source": [
    "### Matrix "
   ]
  },
  {
   "cell_type": "markdown",
   "metadata": {},
   "source": [
    "*Depth-First Search*"
   ]
  },
  {
   "cell_type": "code",
   "execution_count": 3,
   "metadata": {},
   "outputs": [],
   "source": [
    "def dfs(r,c,grid,visit):\n",
    "    R = len(grid)\n",
    "    C = len(grid[0])\n",
    "    if (r,c) in visit:\n",
    "        return\n",
    "    \n",
    "    if r not in range(R) or c not in range(C):\n",
    "        return\n",
    "    visit.add(r,c)\n",
    "    dfs(r+1,c,grid,visit)\n",
    "    dfs(r-1,c,grid,visit)\n",
    "    dfs(r,c+1,grid,visit)\n",
    "    dfs(r,c-1,grid,visit)"
   ]
  },
  {
   "cell_type": "markdown",
   "metadata": {},
   "source": [
    "*Breadth-First Search*"
   ]
  },
  {
   "cell_type": "code",
   "execution_count": 4,
   "metadata": {},
   "outputs": [],
   "source": [
    "def bfs(r,c,grid):\n",
    "    R = len(grid)\n",
    "    C = len(grid[0])\n",
    "    q = deque()\n",
    "    visit = set()\n",
    "    q.append((r,c))\n",
    "    visit.add((r,c))\n",
    "\n",
    "    direct = [[0,1],[1,0],[0,-1],[-1,0]]\n",
    "\n",
    "    while q:\n",
    "        for _ in range(len(q)):\n",
    "            r,c = q.popleft()\n",
    "            \n",
    "            for dr,dc in direct:\n",
    "                nr = r + dr\n",
    "                nc = c + dc\n",
    "                if nr not in range(R) or nc not in range(C) or (nr,nc) in visit:\n",
    "                    continue\n",
    "                q.append((nr,nc))\n",
    "                visit.add((nr,nc))\n"
   ]
  },
  {
   "cell_type": "markdown",
   "metadata": {},
   "source": [
    "### Djiktras - Shortest Path Algorithm\n",
    "\n",
    "Time Complexity: O(ElogV)  \n",
    "Space Complexity: O(V + E)"
   ]
  },
  {
   "cell_type": "markdown",
   "metadata": {},
   "source": [
    "*Adjaceny List*"
   ]
  },
  {
   "cell_type": "code",
   "execution_count": 9,
   "metadata": {},
   "outputs": [],
   "source": [
    "import heapq\n",
    "\n",
    "def shortestPath(src,adj):\n",
    "\n",
    "    shortest = {}\n",
    "    h = [[0,src]] # min heap\n",
    "    while h:\n",
    "\n",
    "        w1,n1 = heapq.heappop(h)\n",
    "        if n1 in shortest:\n",
    "            continue\n",
    "        shortest[n1] = w1\n",
    "        for n2,w2 in adj[n1]:\n",
    "            if n2 not in shortest:\n",
    "                heapq.heappush(h,(w1+w2,n2))\n",
    "    return shortest"
   ]
  },
  {
   "cell_type": "markdown",
   "metadata": {},
   "source": [
    "*Matrix*"
   ]
  },
  {
   "cell_type": "code",
   "execution_count": null,
   "metadata": {},
   "outputs": [],
   "source": [
    "def shortestPath(r,c,grid):\n",
    "    R = len(grid)\n",
    "    C = len(grid[0])\n",
    "    shortest = {}\n",
    "    h = [[0,(r,c)]] # min heap [len,(row,col)]\n",
    "    direct = [[0,1],[0,-1],[1,0],[-1,0]]\n",
    "    while h: \n",
    "        w1,n1 = heapq.heappop(h)\n",
    "        r,c = n1\n",
    "        if (r,c) in shortest:\n",
    "            continue\n",
    "        shortest[n1] = w1\n",
    "        for dr,dc in direct:\n",
    "            nr = r + dr\n",
    "            nc = c + dc\n",
    "            if nr in range(R) and nc in range(C) and (nr,nc) not in shortest:\n",
    "                w2 = 0\n",
    "                heapq.heappush(h,(w1+w2,(nr,nc)))\n",
    "    return shortest"
   ]
  },
  {
   "cell_type": "markdown",
   "metadata": {},
   "source": [
    "### Minimum Spanning Tree"
   ]
  },
  {
   "cell_type": "markdown",
   "metadata": {},
   "source": [
    "#### Prims Algorithm - Undirected Graph\n",
    "\n",
    "Time Complexity: O(ElogV)  \n",
    "Space Complexity: O(E)"
   ]
  },
  {
   "cell_type": "code",
   "execution_count": 1,
   "metadata": {},
   "outputs": [],
   "source": [
    "def find_mst_prim(adj,start):\n",
    "\n",
    "    # adj: node : [(dst,weight)]\n",
    "    h = []\n",
    "    for n,w in adj[start]:\n",
    "        heapq.heappush(h,(w,start,n))\n",
    "    mst = []\n",
    "    visit = set()\n",
    "    visit.add(start)\n",
    "    while h:\n",
    "        w,src,node = heapq.heappop(h)\n",
    "        if node in visit:\n",
    "            continue\n",
    "\n",
    "        mst.append((src,node))\n",
    "        visit.add(node)\n",
    "        for nei,w in adj[node]:\n",
    "            if nei not in visit:\n",
    "                heapq.heappush(h,(w,node,nei))\n",
    "    return mst"
   ]
  },
  {
   "cell_type": "markdown",
   "metadata": {},
   "source": [
    "### Kruskal Algorithm: MST Undirected Graphs\n",
    "\n",
    "Time Complexity: O(ELogV)  \n",
    "Space Complexity: O(E)"
   ]
  },
  {
   "cell_type": "code",
   "execution_count": null,
   "metadata": {},
   "outputs": [],
   "source": [
    "def mst(edges,n):\n",
    "\n",
    "    h = []\n",
    "    for n1,n2,w in edges:\n",
    "        heapq.heappush(h,(w,n1,n2))\n",
    "    uf = UnionFind(n)\n",
    "    mst = []\n",
    "    while len(mst) < n-1:\n",
    "        w,n1,n2 = heapq.heappop(h)\n",
    "        if not uf.union(n1,n2):\n",
    "            continue\n",
    "        mst.append((n1,n2))\n",
    "    return mst\n"
   ]
  },
  {
   "cell_type": "code",
   "execution_count": null,
   "metadata": {},
   "outputs": [],
   "source": []
  }
 ],
 "metadata": {
  "kernelspec": {
   "display_name": "Python 3",
   "language": "python",
   "name": "python3"
  },
  "language_info": {
   "codemirror_mode": {
    "name": "ipython",
    "version": 3
   },
   "file_extension": ".py",
   "mimetype": "text/x-python",
   "name": "python",
   "nbconvert_exporter": "python",
   "pygments_lexer": "ipython3",
   "version": "3.12.3"
  }
 },
 "nbformat": 4,
 "nbformat_minor": 2
}
