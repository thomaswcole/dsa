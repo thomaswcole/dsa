{
 "cells": [
  {
   "cell_type": "code",
   "execution_count": 8,
   "metadata": {},
   "outputs": [],
   "source": [
    "arr = [5,2,13,3,8]"
   ]
  },
  {
   "cell_type": "code",
   "execution_count": 9,
   "metadata": {},
   "outputs": [
    {
     "name": "stdout",
     "output_type": "stream",
     "text": [
      "8 8\n",
      "3 8\n",
      "13 8\n",
      "2 13\n",
      "5 13\n",
      "[13, 8]\n"
     ]
    }
   ],
   "source": [
    "maxVal = arr[::-1][0]\n",
    "for num in arr[::-1]:\n",
    "    \n",
    "    print(num,maxVal)\n",
    "    if num > maxVal:\n",
    "        maxVal = num\n",
    "    if num < maxVal:\n",
    "        arr.remove(num)\n",
    "    \n",
    "\n",
    "print(arr)"
   ]
  },
  {
   "cell_type": "code",
   "execution_count": 8,
   "metadata": {},
   "outputs": [],
   "source": [
    "k = 5\n",
    "w = ['a']\n",
    "while len(w) < k:\n",
    "    curr = w.copy()\n",
    "    temp = []\n",
    "    for char in curr:\n",
    "        temp.append(chr((ord(char) - ord('a') + 1) % 26 + ord('a')))\n",
    "    w = w + temp\n",
    "    "
   ]
  },
  {
   "cell_type": "code",
   "execution_count": 12,
   "metadata": {},
   "outputs": [
    {
     "data": {
      "text/plain": [
       "'b'"
      ]
     },
     "execution_count": 12,
     "metadata": {},
     "output_type": "execute_result"
    }
   ],
   "source": [
    "w[k-1]"
   ]
  },
  {
   "cell_type": "code",
   "execution_count": 46,
   "metadata": {},
   "outputs": [
    {
     "name": "stdout",
     "output_type": "stream",
     "text": [
      "{'i'} {'a': 0, 'e': 0, 'i': 1, 'o': 0, 'u': 0} 1\n",
      "{'i', 'e'} {'a': 0, 'e': 1, 'i': 1, 'o': 0, 'u': 0} 1\n",
      "{'a', 'i', 'e'} {'a': 1, 'e': 1, 'i': 1, 'o': 0, 'u': 0} 1\n",
      "{'a', 'i', 'o', 'e'} {'a': 1, 'e': 1, 'i': 1, 'o': 1, 'u': 0} 1\n",
      "{'a', 'i', 'o', 'e', 'u'} {'a': 1, 'e': 1, 'i': 1, 'o': 1, 'u': 1} 1\n",
      "{'a', 'i', 'o', 'e', 'u'} {'a': 1, 'e': 1, 'i': 1, 'o': 1, 'u': 1} 0\n",
      "set() {'a': 0, 'e': 0, 'i': 0, 'o': 0, 'u': 0} 0\n",
      "{'i'} {'a': 0, 'e': 0, 'i': 1, 'o': 0, 'u': 0} 0\n",
      "{'i', 'e'} {'a': 0, 'e': 1, 'i': 1, 'o': 0, 'u': 0} 0\n",
      "{'a', 'i', 'e'} {'a': 1, 'e': 1, 'i': 1, 'o': 0, 'u': 0} 0\n",
      "{'a', 'i', 'o', 'e'} {'a': 1, 'e': 1, 'i': 1, 'o': 1, 'u': 0} 0\n",
      "{'a', 'i', 'o', 'e', 'u'} {'a': 1, 'e': 1, 'i': 1, 'o': 1, 'u': 1} 0\n",
      "{'a', 'i', 'o', 'e', 'u'} {'a': 1, 'e': 1, 'i': 1, 'o': 1, 'u': 1} 0\n",
      "{'a', 'i', 'o', 'e', 'u'} {'a': 1, 'e': 1, 'i': 1, 'o': 1, 'u': 1} 0\n"
     ]
    }
   ],
   "source": [
    "from collections import defaultdict\n",
    "word  = \"ieaouqqieaouqq\"\n",
    "k = 1\n",
    "vowels = {'a':0,'e':0,'i':0,'o':0,'u':0}\n",
    "l = 0\n",
    "r = 0\n",
    "v = set()\n",
    "res = 0\n",
    "t = []\n",
    "while r < len(word):\n",
    "    if word[r] in vowels:\n",
    "        v.add(word[r])\n",
    "        vowels[word[r]] += 1\n",
    "    else:\n",
    "        k-=1\n",
    "    \n",
    "    while k < 0:\n",
    "        if word[l] in vowels:\n",
    "            v.remove(word[l])\n",
    "            vowels[word[l]] -= 1\n",
    "            l += 1\n",
    "        else:\n",
    "            k += 1\n",
    "    print(v,vowels,k)\n",
    "    if (len(v) == 5 and k == 0):\n",
    "        t.append(word[l:r+1])\n",
    "    r += 1"
   ]
  },
  {
   "cell_type": "code",
   "execution_count": 47,
   "metadata": {},
   "outputs": [
    {
     "data": {
      "text/plain": [
       "0"
      ]
     },
     "execution_count": 47,
     "metadata": {},
     "output_type": "execute_result"
    }
   ],
   "source": [
    "res"
   ]
  },
  {
   "cell_type": "code",
   "execution_count": 48,
   "metadata": {},
   "outputs": [
    {
     "data": {
      "text/plain": [
       "['ieaouq', 'qqieaou', 'qqieaouq', 'qqieaouqq']"
      ]
     },
     "execution_count": 48,
     "metadata": {},
     "output_type": "execute_result"
    }
   ],
   "source": [
    "t"
   ]
  },
  {
   "cell_type": "code",
   "execution_count": null,
   "metadata": {},
   "outputs": [],
   "source": []
  }
 ],
 "metadata": {
  "kernelspec": {
   "display_name": "Python 3",
   "language": "python",
   "name": "python3"
  },
  "language_info": {
   "codemirror_mode": {
    "name": "ipython",
    "version": 3
   },
   "file_extension": ".py",
   "mimetype": "text/x-python",
   "name": "python",
   "nbconvert_exporter": "python",
   "pygments_lexer": "ipython3",
   "version": "3.12.3"
  }
 },
 "nbformat": 4,
 "nbformat_minor": 2
}
