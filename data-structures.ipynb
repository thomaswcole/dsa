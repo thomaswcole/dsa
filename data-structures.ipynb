{
 "cells": [
  {
   "cell_type": "markdown",
   "metadata": {},
   "source": [
    "### Data Structures Review in Python\n",
    "\n",
    "This notebook serves as a short overview of data structures, their features and how to use them in Python."
   ]
  },
  {
   "cell_type": "markdown",
   "metadata": {},
   "source": [
    "### Arrays/Lists\n",
    "\n",
    "Lists in Python are **ordered** collections of items, that are **mutable** and **idexable**. \n",
    "\n",
    "\n",
    "| Operation          | Time Complexity |\n",
    "|--------------------|-----------------|\n",
    "| Index Access       | **O(1)**            |\n",
    "| Search             | **O(N)**            |\n",
    "| Insertion End      | **O(1)**            |\n",
    "| Deletion End       | **O(1)**           |"
   ]
  },
  {
   "cell_type": "markdown",
   "metadata": {},
   "source": [
    "*In Python*"
   ]
  },
  {
   "cell_type": "code",
   "execution_count": 3,
   "metadata": {},
   "outputs": [
    {
     "name": "stdout",
     "output_type": "stream",
     "text": [
      "1\n",
      "[2, 2, 3, 4]\n"
     ]
    }
   ],
   "source": [
    "arr = [1,2,3]\n",
    "arr.append(4) # Insert End\n",
    "print(arr[0]) # Index\n",
    "arr.pop(0) # Remove End/Middle\n",
    "arr.insert(0,2) # insert at index\n",
    "print(arr)"
   ]
  },
  {
   "cell_type": "markdown",
   "metadata": {},
   "source": [
    "### Queue\n",
    "\n",
    "Queues are a FIFO data structure in Python.\n",
    "\n",
    "| Operation            | Time Complexity| \n",
    "|----------------------|----------------|\n",
    "| Enqueue (append)     | O(1)           | \n",
    "| Dequeue (pop front)  | O(1)           |  "
   ]
  },
  {
   "cell_type": "markdown",
   "metadata": {},
   "source": [
    "*In Python*"
   ]
  },
  {
   "cell_type": "code",
   "execution_count": 5,
   "metadata": {},
   "outputs": [
    {
     "data": {
      "text/plain": [
       "1"
      ]
     },
     "execution_count": 5,
     "metadata": {},
     "output_type": "execute_result"
    }
   ],
   "source": [
    "from collections import deque\n",
    "\n",
    "q = deque()\n",
    "q.append(1) # enqueue\n",
    "q.popleft() # dequeue"
   ]
  },
  {
   "cell_type": "markdown",
   "metadata": {},
   "source": [
    "### Stack\n",
    "\n",
    "Stacks are essentially the opposite of queues, they are a LIFO data strucutre. In Python, they are just implemented using an array.\n",
    "\n",
    "| Operation          | Time Complexity |\n",
    "|--------------------|-----------------|\n",
    "| Insertion End      | **O(1)**        |\n",
    "| Deletion End       | **O(1)**        |"
   ]
  },
  {
   "cell_type": "markdown",
   "metadata": {},
   "source": [
    "*In Python*"
   ]
  },
  {
   "cell_type": "code",
   "execution_count": 7,
   "metadata": {},
   "outputs": [
    {
     "data": {
      "text/plain": [
       "0"
      ]
     },
     "execution_count": 7,
     "metadata": {},
     "output_type": "execute_result"
    }
   ],
   "source": [
    "s = []\n",
    "s.append(1)\n",
    "s.pop()\n",
    "len(s)"
   ]
  },
  {
   "cell_type": "markdown",
   "metadata": {},
   "source": [
    "### Heaps"
   ]
  },
  {
   "cell_type": "markdown",
   "metadata": {},
   "source": [
    "We can also do Heaps, python natively only supports min heaps, but you can easily turn this into a maxheap. \n",
    "\n",
    "\n",
    "| Operation          | Time Complexity |\n",
    "|--------------------|-----------------|\n",
    "| Heapify            | **O(N)**        |\n",
    "| Insertion          | **O(log N)**   |\n",
    "| Pop                | **O(log N)**   | "
   ]
  },
  {
   "cell_type": "markdown",
   "metadata": {},
   "source": [
    "*In Python*"
   ]
  },
  {
   "cell_type": "code",
   "execution_count": 10,
   "metadata": {},
   "outputs": [
    {
     "name": "stdout",
     "output_type": "stream",
     "text": [
      "1\n",
      "0\n"
     ]
    }
   ],
   "source": [
    "import heapq\n",
    "\n",
    "heap = [1,2,3]\n",
    "heapq.heapify(heap)\n",
    "print(heapq.heappop(heap))\n",
    "heapq.heappush(heap,0)\n",
    "print(heap[0])"
   ]
  },
  {
   "cell_type": "markdown",
   "metadata": {},
   "source": [
    "### Hashmap\n",
    "\n",
    "In Python, hashmaps are implemented using dicitonaries.\n",
    "\n",
    "| Operation          | Time Complexity |\n",
    "|--------------------|-----------------|\n",
    "| Lookup             | **O(1)**        |\n",
    "| Insertion          | **O(1)**        |\n",
    "| Deletion           | **O(1)**        | \n"
   ]
  },
  {
   "cell_type": "markdown",
   "metadata": {},
   "source": [
    "*In Python*"
   ]
  },
  {
   "cell_type": "code",
   "execution_count": 11,
   "metadata": {},
   "outputs": [
    {
     "name": "stdout",
     "output_type": "stream",
     "text": [
      "3\n"
     ]
    }
   ],
   "source": [
    "d = {}\n",
    "d['item1'] = 3      # insert\n",
    "print(d['item1'])   # lookup\n",
    "del d['item1']      # delete"
   ]
  },
  {
   "cell_type": "markdown",
   "metadata": {},
   "source": [
    "### Hashset\n",
    "\n",
    "A set contains **unique** elements, that are **unordered**. \n",
    "\n",
    "\n",
    "| Operation          | Time Complexity |\n",
    "|--------------------|-----------------|\n",
    "| Lookup             | **O(1)**        |\n",
    "| Insertion          | **O(1)**        |\n",
    "| Deletion           | **O(1)**        | "
   ]
  },
  {
   "cell_type": "markdown",
   "metadata": {},
   "source": [
    "*In Python*"
   ]
  },
  {
   "cell_type": "code",
   "execution_count": 12,
   "metadata": {},
   "outputs": [
    {
     "name": "stdout",
     "output_type": "stream",
     "text": [
      "{1}\n",
      "False\n",
      "set()\n"
     ]
    }
   ],
   "source": [
    "s = set()\n",
    "s.add(1)        # Insertion\n",
    "print(s)\n",
    "print(2 in s)   # Lookup\n",
    "s.remove(1)     # Remove\n",
    "print(s)"
   ]
  },
  {
   "cell_type": "markdown",
   "metadata": {},
   "source": [
    "*Set Operations*"
   ]
  },
  {
   "cell_type": "code",
   "execution_count": 17,
   "metadata": {},
   "outputs": [
    {
     "name": "stdout",
     "output_type": "stream",
     "text": [
      "{1, 2, 3, 4, 5}\n",
      "{3}\n",
      "{1, 2}\n",
      "{1, 2, 4, 5}\n"
     ]
    }
   ],
   "source": [
    "s1 = {1,2,3}\n",
    "s2 = {3,4,5}\n",
    "\n",
    "# Union\n",
    "print(s1 | s2)\n",
    "\n",
    "# Intersection\n",
    "print(s1 & s2)\n",
    "\n",
    "# Difference\n",
    "print(s1 - s2) # in A, not in B\n",
    "\n",
    "# Symmetric Diff\n",
    "print(s1 ^ s2) # in A not in B + in B not in A"
   ]
  },
  {
   "cell_type": "markdown",
   "metadata": {},
   "source": [
    "### Linked Lists"
   ]
  },
  {
   "cell_type": "markdown",
   "metadata": {},
   "source": [
    "#### Singly Linked List"
   ]
  },
  {
   "cell_type": "markdown",
   "metadata": {},
   "source": [
    "Singly linked lists are like arrays. Python does not have any built in Singly Linked List Classes, we'd have to build them ourselves.\n",
    "\n",
    "| Operation          | Time Complexity |\n",
    "|--------------------|-----------------|\n",
    "| Lookup             | **O(N)**        |\n",
    "| Insertion (End)    | **O(1)**        |\n",
    "| Insertion (Middle) | **O(N)**        |\n",
    "| Deletion           | **O(N)**        | "
   ]
  },
  {
   "cell_type": "markdown",
   "metadata": {},
   "source": [
    "*In Python*"
   ]
  },
  {
   "cell_type": "code",
   "execution_count": 36,
   "metadata": {},
   "outputs": [],
   "source": [
    "class Node:\n",
    "\n",
    "    def __init__(self,val):\n",
    "        self.val = val\n",
    "        self.next = None\n",
    "\n",
    "class LinkedList:\n",
    "\n",
    "    def __init__(self):\n",
    "        self.head = None\n",
    "\n",
    "    def insertStart(self,val):\n",
    "        new = Node(val)\n",
    "        new.next = self.head\n",
    "        self.head = new\n",
    "\n",
    "    def insertEnd(self,val):\n",
    "\n",
    "        if not self.head:\n",
    "            self.head = Node(val)\n",
    "            return\n",
    "\n",
    "        curr = self.head\n",
    "        while curr.next:\n",
    "            curr = curr.next\n",
    "        curr.next = Node(val)\n",
    "\n",
    "    def reverse(self):\n",
    "\n",
    "        prev = None\n",
    "        curr = self.head\n",
    "        while curr:\n",
    "            temp = curr.next\n",
    "            curr.next = prev\n",
    "            prev = curr\n",
    "            curr = temp\n",
    "\n",
    "        self.head = prev\n",
    "\n",
    "    def __str__(self):\n",
    "        curr = self.head\n",
    "        values = []\n",
    "        while curr:\n",
    "            values.append(str(curr.val))\n",
    "            curr = curr.next\n",
    "        return '->'.join(values) + \"->None\""
   ]
  },
  {
   "cell_type": "code",
   "execution_count": 40,
   "metadata": {},
   "outputs": [
    {
     "name": "stdout",
     "output_type": "stream",
     "text": [
      "3->2->4->None\n"
     ]
    }
   ],
   "source": [
    "L = LinkedList()\n",
    "L.insertStart(2)\n",
    "L.insertStart(3)\n",
    "L.insertEnd(4)\n",
    "L.reverse()\n",
    "L.reverse()\n",
    "print(L)"
   ]
  },
  {
   "cell_type": "markdown",
   "metadata": {},
   "source": [
    "#### Doubly Linked List\n",
    "\n",
    "Again we have to implement these ourselves. \n",
    "\n",
    "\n",
    "| Operation                | Time Complexity |\n",
    "|--------------------------|-----------------|\n",
    "| Lookup                   | **O(N)**        |\n",
    "| Insertion (Start/End)    | **O(1)**        |\n",
    "| Insertion (Middle)       | **O(N)**        |\n",
    "| Deletion (Start/End)     | **O(1)**        | \n",
    "| Deletion (Middle)        | **O(N)**        | "
   ]
  },
  {
   "cell_type": "code",
   "execution_count": 41,
   "metadata": {},
   "outputs": [],
   "source": [
    "class Node:\n",
    "\n",
    "    def __init__(self,val):\n",
    "        self.val = val\n",
    "        self.next = None\n",
    "        self.prev = None \n",
    "\n",
    "class DLinkedList:\n",
    "\n",
    "    def __init__(self):\n",
    "        self.head = None\n",
    "\n",
    "\n",
    "    def insertStart(self,val):\n",
    "        pass \n",
    "\n",
    "    def insertEnd(self,val):\n",
    "        pass\n",
    "    \n",
    "    def __str__(self):\n",
    "\n",
    "        values = []\n",
    "        curr = self.head\n",
    "        while curr:\n",
    "            values.append(str(curr.val))\n",
    "            curr = curr.next\n",
    "        return '<->'.join(values) + \"None\"\n",
    "    "
   ]
  },
  {
   "cell_type": "markdown",
   "metadata": {},
   "source": [
    "### Binary Trees\n",
    "\n",
    "\n",
    "Binary Trees can be seen as an extension of linked lists. We need to implement them ourselves. They are often used for efficient searching (BST).\n",
    "\n",
    "\n",
    "| Operation                | Time Complexity |\n",
    "|--------------------------|-----------------|\n",
    "| Lookup                   | **O(log N)**    |\n",
    "| Insertion                | **O(log N)**    |\n",
    "| Deletion                 | **O(log N)**    | \n",
    "| Access                   | **O(log N)**    | "
   ]
  },
  {
   "cell_type": "markdown",
   "metadata": {},
   "source": [
    "*In Python*"
   ]
  },
  {
   "cell_type": "code",
   "execution_count": 15,
   "metadata": {},
   "outputs": [
    {
     "data": {
      "text/plain": [
       "False"
      ]
     },
     "execution_count": 15,
     "metadata": {},
     "output_type": "execute_result"
    }
   ],
   "source": [
    "def h(s):\n",
    "    total = 0\n",
    "    for i in range(len(s)):\n",
    "        total += (i+1)*(ord(s[i])-ord('a')+1)\n",
    "    return total\n",
    "\n",
    "h('abeaa')\n",
    "h('bvvv') == h('xxxw')"
   ]
  },
  {
   "cell_type": "code",
   "execution_count": 19,
   "metadata": {},
   "outputs": [],
   "source": [
    "class Player:\n",
    "    def __init__(self):\n",
    "        self.__val = 0"
   ]
  },
  {
   "cell_type": "code",
   "execution_count": 20,
   "metadata": {},
   "outputs": [],
   "source": [
    "p = Player()"
   ]
  },
  {
   "cell_type": "code",
   "execution_count": 2,
   "metadata": {},
   "outputs": [],
   "source": [
    "class Node:\n",
    "\n",
    "    def __init__(self,val):\n",
    "        self.val = val\n",
    "        self.left = None\n",
    "        self.right = None\n",
    "\n",
    "class Tree:\n",
    "\n",
    "    def __init__(self):\n",
    "        self.root = None\n",
    "\n",
    "    \n",
    "    def insert(self,val):\n",
    "        newNode = Node(val)\n",
    "\n",
    "        if self.root is None:\n",
    "            self.root = newNode\n",
    "            return\n",
    "    \n",
    "        q = [self.root]\n",
    "\n",
    "        while q:\n",
    "            curr = q.pop(0)\n",
    "\n",
    "            if curr.left is None:\n",
    "                curr.left = newNode\n",
    "                return\n",
    "            else:\n",
    "                q.append(curr.left)\n",
    "\n",
    "            if curr.right is None:\n",
    "                curr.right = newNode\n",
    "                return\n",
    "            else:\n",
    "                q.append(curr.right)"
   ]
  },
  {
   "cell_type": "code",
   "execution_count": 6,
   "metadata": {},
   "outputs": [],
   "source": [
    "bt = Tree()\n",
    "for i in range(10):\n",
    "    bt.insert(i)"
   ]
  },
  {
   "cell_type": "code",
   "execution_count": 8,
   "metadata": {},
   "outputs": [
    {
     "name": "stdout",
     "output_type": "stream",
     "text": [
      "[0, 1, 3, 7, 8, 4, 9, 2, 5, 6]\n"
     ]
    }
   ],
   "source": [
    "res = []\n",
    "def preorder(node):\n",
    "    if not node:\n",
    "        return\n",
    "    res.append(node.val)\n",
    "    preorder(node.left)\n",
    "    preorder(node.right)\n",
    "preorder(bt.root)\n",
    "print(res)"
   ]
  },
  {
   "cell_type": "markdown",
   "metadata": {},
   "source": [
    "#### Binary Search Trees\n",
    "\n",
    "Properties of BST\n",
    "- Each node has at most 2 children.\n",
    "- Left is less than node, right is greater than node\n",
    "- No Duplicates\n",
    "\n",
    "\n",
    "| Operation                | Time Complexity |\n",
    "|--------------------------|-----------------|\n",
    "| Lookup                   | **O(log N)**    |\n",
    "| Insertion                | **O(log N)**    |\n",
    "| Deletion                 | **O(log N)**    | \n",
    "| Traversal                | **O(N)**    | \n"
   ]
  },
  {
   "cell_type": "markdown",
   "metadata": {},
   "source": [
    "*In Python*"
   ]
  },
  {
   "cell_type": "code",
   "execution_count": 1,
   "metadata": {},
   "outputs": [],
   "source": [
    "class Node:\n",
    "    def __init__(self,val):\n",
    "        self.val = val\n",
    "        self.left = None\n",
    "        self.right = None \n",
    "\n",
    "class BST:\n",
    "    def __init__(self):\n",
    "        self.root = None\n",
    "\n",
    "    def insert(self,val):\n",
    "        self.root = self._insert_rec(self.root,val)\n",
    "    \n",
    "    def _insert_rec(self,node,val):\n",
    "\n",
    "        if node is None:\n",
    "            return Node(val)\n",
    "        if val < node.val:\n",
    "            node.left = self._insert_rec(node.left,val)\n",
    "        else:\n",
    "            node.right = self._insert_rec(node.right,val)\n",
    "        return node"
   ]
  },
  {
   "cell_type": "markdown",
   "metadata": {},
   "source": []
  },
  {
   "cell_type": "markdown",
   "metadata": {},
   "source": [
    "### Tries\n",
    "\n",
    "These are referred to as prefix trees. Allows for easy searching of a word.\n",
    "\n",
    "\n",
    "| Operation                | Time Complexity |\n",
    "|--------------------------|-----------------|\n",
    "| Lookup                   | **O(N)**        |\n",
    "| Insertion                | **O(N)**        |  "
   ]
  },
  {
   "cell_type": "markdown",
   "metadata": {},
   "source": [
    "*In Python*"
   ]
  },
  {
   "cell_type": "code",
   "execution_count": 2,
   "metadata": {},
   "outputs": [],
   "source": [
    "class Node:\n",
    "\n",
    "    def __init__(self):\n",
    "        self.children = {}\n",
    "        self.is_word = False\n",
    "\n",
    "class Trie:\n",
    "    def __init__(self):\n",
    "        self.root = Node()\n",
    "\n",
    "    def insert(self,word):\n",
    "        curr = self.root\n",
    "        for char in word:\n",
    "            if char not in curr.children:\n",
    "                curr.children[char] = Node()\n",
    "            curr = curr.children[char]\n",
    "        curr.is_word = True\n",
    "    \n",
    "    def search(self,word):\n",
    "        curr = self.root\n",
    "\n",
    "        for char in word:\n",
    "            if char not in curr.children:\n",
    "                return False\n",
    "            curr = curr.children[char]\n",
    "        return curr.is_word"
   ]
  },
  {
   "cell_type": "code",
   "execution_count": 3,
   "metadata": {},
   "outputs": [
    {
     "name": "stdout",
     "output_type": "stream",
     "text": [
      "True\n",
      "False\n"
     ]
    }
   ],
   "source": [
    "t = Trie()\n",
    "t.insert('apple')\n",
    "t.insert('bat')\n",
    "print(t.search('apple'))\n",
    "print(t.search('app'))"
   ]
  },
  {
   "cell_type": "markdown",
   "metadata": {},
   "source": [
    "### Graphs"
   ]
  },
  {
   "cell_type": "code",
   "execution_count": null,
   "metadata": {},
   "outputs": [],
   "source": []
  }
 ],
 "metadata": {
  "kernelspec": {
   "display_name": "Python 3",
   "language": "python",
   "name": "python3"
  },
  "language_info": {
   "codemirror_mode": {
    "name": "ipython",
    "version": 3
   },
   "file_extension": ".py",
   "mimetype": "text/x-python",
   "name": "python",
   "nbconvert_exporter": "python",
   "pygments_lexer": "ipython3",
   "version": "3.12.3"
  }
 },
 "nbformat": 4,
 "nbformat_minor": 2
}
