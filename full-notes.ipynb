{
 "cells": [
  {
   "cell_type": "code",
   "execution_count": null,
   "metadata": {},
   "outputs": [],
   "source": []
  },
  {
   "cell_type": "markdown",
   "metadata": {},
   "source": [
    "## Arrays"
   ]
  },
  {
   "cell_type": "markdown",
   "metadata": {},
   "source": [
    "| Operation | Time Complexity | \n",
    "|-----------|-----------------|\n",
    "| Insertion | O(N)            |\n",
    "| Delete    | O(N)            |\n",
    "| Retrieve  | O(1)            |"
   ]
  },
  {
   "cell_type": "markdown",
   "metadata": {},
   "source": [
    "### Algorithms for Array Problems"
   ]
  },
  {
   "cell_type": "markdown",
   "metadata": {},
   "source": [
    "## Sliding Window"
   ]
  },
  {
   "cell_type": "markdown",
   "metadata": {},
   "source": [
    "#### Fixed Size Sliding Window\n",
    "\n",
    "You would want to use a fixed size sliding window approach when you are given some constraint. \n",
    "\n",
    "\n",
    "**Example Problems:**\n",
    "1. LC219: Contains Duplicate in Window Length K"
   ]
  },
  {
   "cell_type": "markdown",
   "metadata": {},
   "source": [
    "*Basic Structure*"
   ]
  },
  {
   "cell_type": "code",
   "execution_count": 3,
   "metadata": {},
   "outputs": [],
   "source": [
    "arr,k  = [], 0\n",
    "l = 0\n",
    "r = 0\n",
    "while r < len(arr):\n",
    "\n",
    "    if (r - l + 1) > k:\n",
    "        # apply some operation to the window\n",
    "        l += 1\n",
    "    r += 1\n",
    "    # do another operation to the window, \n",
    "    # ex. adding the rth ele to window."
   ]
  },
  {
   "cell_type": "markdown",
   "metadata": {},
   "source": [
    "#### Variable Size Sliding Window\n",
    "\n",
    "You would want to use this approach when you are not sure how long the return value should be. For example you are finding the longest array or long substring etc.\n",
    "\n",
    "**Examples**:\n",
    "1. LC209: Minimum Size Subarray Sum"
   ]
  },
  {
   "cell_type": "markdown",
   "metadata": {},
   "source": [
    "*Basic Structure*"
   ]
  },
  {
   "cell_type": "code",
   "execution_count": 4,
   "metadata": {},
   "outputs": [],
   "source": [
    "l = 0\n",
    "r = 0\n",
    "total = 0\n",
    "arr = []\n",
    "target = 0\n",
    "length = 0\n",
    "while r < len(arr):\n",
    "\n",
    "    # do something with rth element\n",
    "    while l <= r and total >= target: # you want to continue expanding the array\n",
    "                            # while some condition that you have is met\n",
    "        length = max(r-l+1,length)\n",
    "        l+=1\n",
    "    r += 1"
   ]
  },
  {
   "cell_type": "markdown",
   "metadata": {},
   "source": [
    "### Binary Search\n",
    "\n",
    "Binary search can be used across a variety of problems, but most commonly with arrays or matrices.\n",
    "\n",
    "The general idea is to split your search space at each iteration."
   ]
  },
  {
   "cell_type": "code",
   "execution_count": null,
   "metadata": {},
   "outputs": [],
   "source": []
  }
 ],
 "metadata": {
  "kernelspec": {
   "display_name": "Python 3",
   "language": "python",
   "name": "python3"
  },
  "language_info": {
   "codemirror_mode": {
    "name": "ipython",
    "version": 3
   },
   "file_extension": ".py",
   "mimetype": "text/x-python",
   "name": "python",
   "nbconvert_exporter": "python",
   "pygments_lexer": "ipython3",
   "version": "3.12.3"
  }
 },
 "nbformat": 4,
 "nbformat_minor": 2
}
