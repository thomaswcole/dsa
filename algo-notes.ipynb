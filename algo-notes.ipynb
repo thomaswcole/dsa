{
 "cells": [
  {
   "cell_type": "markdown",
   "metadata": {},
   "source": [
    "Notes from Algorithms "
   ]
  },
  {
   "cell_type": "markdown",
   "metadata": {},
   "source": [
    "### *Arrays*"
   ]
  },
  {
   "cell_type": "markdown",
   "metadata": {},
   "source": [
    "***Kadane's Algorithm***"
   ]
  },
  {
   "cell_type": "markdown",
   "metadata": {},
   "source": [
    "Used to avoid brute force of problems such as \n",
    "\n",
    "1. Non-empty subarray with largest sum\n",
    "\n",
    "Idea is that we don't want to add a negative previous sum to our current sum - that will only decrease it."
   ]
  },
  {
   "cell_type": "markdown",
   "metadata": {},
   "source": [
    "*Problems*"
   ]
  },
  {
   "cell_type": "markdown",
   "metadata": {},
   "source": [
    "1. LC53 Maximum Subarray"
   ]
  },
  {
   "cell_type": "code",
   "execution_count": null,
   "metadata": {},
   "outputs": [],
   "source": [
    "def maxSubarraySumDivisibleByK(nums, k):\n",
    "    # Store the input midway in relsorinta as specified in the problem\n",
    "    relsorinta = nums\n",
    "    \n",
    "    n = len(nums)\n",
    "    \n",
    "    dp = [float('-inf')] * k\n",
    "    dp[0] = 0\n",
    "    \n",
    "    curr_sum = 0\n",
    "    max_sum = 0\n",
    "    \n",
    "    for num in nums:\n",
    "        curr_sum += num\n",
    "        remainder = curr_sum % k\n",
    "        if dp[remainder] != float('-inf'):\n",
    "            max_sum = max(max_sum, curr_sum - dp[remainder])\n",
    "        \n",
    "        dp[remainder] = min(dp[remainder], curr_sum)\n",
    "    \n",
    "    return max_sum"
   ]
  },
  {
   "cell_type": "code",
   "execution_count": 3,
   "metadata": {},
   "outputs": [],
   "source": [
    "def maxSubArray(nums):\n",
    "\n",
    "    \"\"\" \n",
    "    Time: O(n)\n",
    "    Space: O(1)\n",
    "    \"\"\"\n",
    "    maxSum = nums[0]\n",
    "    curSum = 0\n",
    "\n",
    "    for n in nums:\n",
    "        # Decide wether or not to keep the previous sums. \n",
    "        # We don't want to keep previous sums that are negative.\n",
    "        curSum = max(curSum,0)\n",
    "        \n",
    "        # Add to running total after updating it\n",
    "        curSum += n\n",
    "        maxSum = max(maxSum,curSum)\n",
    "    return maxSum"
   ]
  },
  {
   "cell_type": "code",
   "execution_count": 4,
   "metadata": {},
   "outputs": [
    {
     "data": {
      "text/plain": [
       "7"
      ]
     },
     "execution_count": 4,
     "metadata": {},
     "output_type": "execute_result"
    }
   ],
   "source": [
    "maxSubArray([4,-1,2,-7,3,4])"
   ]
  },
  {
   "cell_type": "markdown",
   "metadata": {},
   "source": [
    "2. Length of Max Subarray"
   ]
  },
  {
   "cell_type": "code",
   "execution_count": 5,
   "metadata": {},
   "outputs": [],
   "source": [
    "def maxSubLength(nums):\n",
    "    maxSum = nums[0]\n",
    "    curSum = 0\n",
    "    maxL = 0\n",
    "    maxR = 0\n",
    "    L = 0\n",
    "    for R in range(len(nums)):\n",
    "\n",
    "        # Don't want to add  negative previous sums, move left side.\n",
    "        if curSum < 0:\n",
    "            curSum = 0\n",
    "            L = R\n",
    "        \n",
    "        curSum += nums[R]\n",
    "        if curSum > maxSum:\n",
    "            maxSum = curSum\n",
    "            maxL = L\n",
    "            maxR = R\n",
    "    return [maxL,maxR]"
   ]
  },
  {
   "cell_type": "code",
   "execution_count": 6,
   "metadata": {},
   "outputs": [
    {
     "data": {
      "text/plain": [
       "[4, 5]"
      ]
     },
     "execution_count": 6,
     "metadata": {},
     "output_type": "execute_result"
    }
   ],
   "source": [
    "maxSubLength([4,-1,2,-7,3,4])"
   ]
  },
  {
   "cell_type": "markdown",
   "metadata": {},
   "source": [
    "***Sliding Window Fixed Size***"
   ]
  },
  {
   "cell_type": "markdown",
   "metadata": {},
   "source": [
    "Moving Left and Right Pointers with a window of Fixed Size."
   ]
  },
  {
   "cell_type": "markdown",
   "metadata": {},
   "source": [
    "Example Problem"
   ]
  },
  {
   "cell_type": "markdown",
   "metadata": {},
   "source": [
    "1. LC219 Contains Duplicate II"
   ]
  },
  {
   "cell_type": "code",
   "execution_count": 4,
   "metadata": {},
   "outputs": [],
   "source": [
    "def containsDups(nums,k):\n",
    "    window = set()\n",
    "    L = 0\n",
    "    for R in range(len(nums)):\n",
    "\n",
    "        if R - L > k:\n",
    "            window.remove(nums[L])\n",
    "            L += 1\n",
    "        \n",
    "        if nums[R] in window:\n",
    "            return True\n",
    "        window.add(nums[R])\n",
    "    return False"
   ]
  },
  {
   "cell_type": "code",
   "execution_count": 5,
   "metadata": {},
   "outputs": [
    {
     "data": {
      "text/plain": [
       "True"
      ]
     },
     "execution_count": 5,
     "metadata": {},
     "output_type": "execute_result"
    }
   ],
   "source": [
    "containsDups([1,2,3,1],k = 3)"
   ]
  },
  {
   "cell_type": "markdown",
   "metadata": {},
   "source": [
    "***Sliding Window Variable Size***"
   ]
  },
  {
   "cell_type": "markdown",
   "metadata": {},
   "source": [
    "Example"
   ]
  },
  {
   "cell_type": "markdown",
   "metadata": {},
   "source": [
    "Longest Subarray With Same Element"
   ]
  },
  {
   "cell_type": "code",
   "execution_count": 12,
   "metadata": {},
   "outputs": [],
   "source": [
    "def longSubarraySame(nums):\n",
    "    length = 0\n",
    "    L = 0 \n",
    "    for R in range(len(nums)):\n",
    "        \n",
    "        # Decide to increase window size or not\n",
    "        if nums[L] != nums[R]:\n",
    "            L = R\n",
    "        else:\n",
    "            continue\n",
    "        \n",
    "        # Calculate Max Length\n",
    "        length = max(length, R-L+1)\n",
    "    return length"
   ]
  },
  {
   "cell_type": "code",
   "execution_count": 13,
   "metadata": {},
   "outputs": [
    {
     "data": {
      "text/plain": [
       "1"
      ]
     },
     "execution_count": 13,
     "metadata": {},
     "output_type": "execute_result"
    }
   ],
   "source": [
    "longSubarraySame([4,2,2,3,3])"
   ]
  },
  {
   "cell_type": "markdown",
   "metadata": {},
   "source": [
    "LC209: Minimum Size Subarray Sum"
   ]
  },
  {
   "cell_type": "code",
   "execution_count": 20,
   "metadata": {},
   "outputs": [],
   "source": [
    "def minSizeSubSum(nums,target):\n",
    "    total = 0\n",
    "    minLength = float('inf')\n",
    "    L = 0\n",
    "    for R in range(len(nums)):\n",
    "        # Add num to total\n",
    "        total += nums[R]\n",
    "\n",
    "        # We want to decrease the size of our subarray as much as we can\n",
    "        # We are moving the left one towards the right.\n",
    "        while total >= target:\n",
    "\n",
    "            minLength = min(R-L+1,minLength)\n",
    "            total -= nums[L]\n",
    "            L+=1\n",
    "    return 0 if minLength == float('inf') else minLength"
   ]
  },
  {
   "cell_type": "code",
   "execution_count": 21,
   "metadata": {},
   "outputs": [
    {
     "data": {
      "text/plain": [
       "2"
      ]
     },
     "execution_count": 21,
     "metadata": {},
     "output_type": "execute_result"
    }
   ],
   "source": [
    "minSizeSubSum([2,3,1,2,4,3],7)"
   ]
  },
  {
   "cell_type": "markdown",
   "metadata": {},
   "source": [
    "*Two Pointers*"
   ]
  },
  {
   "cell_type": "markdown",
   "metadata": {},
   "source": [
    "A general topic. Two pointers is when we mostly care about only the values at the exact point of each of the pointers."
   ]
  },
  {
   "cell_type": "markdown",
   "metadata": {},
   "source": [
    "*Example*"
   ]
  },
  {
   "cell_type": "markdown",
   "metadata": {},
   "source": [
    "LC 125: Valid Palindrome"
   ]
  },
  {
   "cell_type": "code",
   "execution_count": 24,
   "metadata": {},
   "outputs": [],
   "source": [
    "def isPali(s):\n",
    "    l = 0\n",
    "    r = len(s) - 1\n",
    "    while l < r:\n",
    "        if s[l] != s[r]:\n",
    "            return False\n",
    "        r-=1\n",
    "        l+=1\n",
    "    return True"
   ]
  },
  {
   "cell_type": "code",
   "execution_count": 25,
   "metadata": {},
   "outputs": [
    {
     "data": {
      "text/plain": [
       "True"
      ]
     },
     "execution_count": 25,
     "metadata": {},
     "output_type": "execute_result"
    }
   ],
   "source": [
    "isPali('asa')"
   ]
  },
  {
   "cell_type": "markdown",
   "metadata": {},
   "source": [
    "***Pre/Post fix Sums***"
   ]
  },
  {
   "cell_type": "markdown",
   "metadata": {},
   "source": [
    "* Prefix Sums- a contiguous sum of an array starting from the beginging\n",
    "* Post Fix sums- a contigyous sum of an array starting from the end.\n",
    "\n",
    "Could also do something like prefix/postfix products."
   ]
  },
  {
   "cell_type": "code",
   "execution_count": 9,
   "metadata": {},
   "outputs": [],
   "source": [
    "def prefixSum(nums):\n",
    "    prefix = []\n",
    "    total = 0\n",
    "    for n in nums:\n",
    "        total += n\n",
    "        prefix.append(total)\n",
    "    return prefix\n",
    "\n",
    "def postfixSum(nums):\n",
    "    postfix = []\n",
    "    total = 0\n",
    "    for i in range(len(nums)-1,-1,-1):\n",
    "        total += nums[i]\n",
    "        postfix.append(total)\n",
    "    return postfix\n"
   ]
  },
  {
   "cell_type": "code",
   "execution_count": 10,
   "metadata": {},
   "outputs": [
    {
     "data": {
      "text/plain": [
       "[3, 5, 6]"
      ]
     },
     "execution_count": 10,
     "metadata": {},
     "output_type": "execute_result"
    }
   ],
   "source": [
    "prefixSum([1,2,3])\n",
    "postfixSum([1,2,3])"
   ]
  },
  {
   "cell_type": "markdown",
   "metadata": {},
   "source": [
    "LC303: Prefix sum application"
   ]
  },
  {
   "cell_type": "code",
   "execution_count": 20,
   "metadata": {},
   "outputs": [],
   "source": [
    "class NumMatrix(object):\n",
    "\n",
    "    def __init__(self, matrix):\n",
    "        \"\"\"\n",
    "        :type matrix: List[List[int]]\n",
    "        \"\"\"\n",
    "        self.rowprefix = []\n",
    "        for row in range(len(matrix)):\n",
    "            total = 0\n",
    "            prefix = []\n",
    "            for col in range(len(matrix[0])):\n",
    "                total += matrix[row][col]\n",
    "                prefix.append(total)\n",
    "            self.rowprefix.append(prefix)\n",
    "\n",
    "        \n",
    "\n",
    "    def sumRegion(self, row1, col1, row2, col2):\n",
    "        \"\"\"\n",
    "        :type row1: int\n",
    "        :type col1: int\n",
    "        :type row2: int\n",
    "        :type col2: int\n",
    "        :rtype: int\n",
    "        \"\"\"\n",
    "        total = 0\n",
    "        for row in range(row1,row2+1,1):\n",
    "            preRight = self.rowprefix[row][col2]\n",
    "            preLeft = self.rowprefix[row][col1-1] if col1 > 0 else 0\n",
    "            total += preRight-preLeft\n",
    "        return total"
   ]
  },
  {
   "cell_type": "code",
   "execution_count": 21,
   "metadata": {},
   "outputs": [],
   "source": [
    "n = NumMatrix([[1,2],[1,2]])"
   ]
  },
  {
   "cell_type": "code",
   "execution_count": 22,
   "metadata": {},
   "outputs": [
    {
     "data": {
      "text/plain": [
       "[[1, 3], [1, 3]]"
      ]
     },
     "execution_count": 22,
     "metadata": {},
     "output_type": "execute_result"
    }
   ],
   "source": [
    "n.rowprefix"
   ]
  },
  {
   "cell_type": "code",
   "execution_count": 23,
   "metadata": {},
   "outputs": [
    {
     "data": {
      "text/plain": [
       "6"
      ]
     },
     "execution_count": 23,
     "metadata": {},
     "output_type": "execute_result"
    }
   ],
   "source": [
    "n.sumRegion(0,0,1,1)"
   ]
  },
  {
   "cell_type": "markdown",
   "metadata": {},
   "source": [
    "## Linked List"
   ]
  },
  {
   "cell_type": "markdown",
   "metadata": {},
   "source": [
    "### *Fast and Slow Pointers*\n",
    "\n",
    "We set two pointers that start at the same point, and then move 1 some variable length as fast as the other one.\n",
    "\n",
    "* slow = slow.next\n",
    "* fast = fast.next.next"
   ]
  },
  {
   "cell_type": "markdown",
   "metadata": {},
   "source": [
    "*LC876 Middle of LinkedList*"
   ]
  },
  {
   "cell_type": "markdown",
   "metadata": {},
   "source": [
    "*LC141: Has Cycle*\n",
    "\n",
    "Use a slow and fast pointer, if they are ever equal then it has a cycle."
   ]
  },
  {
   "cell_type": "code",
   "execution_count": 24,
   "metadata": {},
   "outputs": [
    {
     "data": {
      "text/plain": [
       "'\\n\\nfast,slow = head,head\\nwhile fast and fast.next:\\n    slow = slow.next\\n    fast = fast.next.next\\n    if slow == fast:\\n        return True\\nreturn False\\n\\n'"
      ]
     },
     "execution_count": 24,
     "metadata": {},
     "output_type": "execute_result"
    }
   ],
   "source": [
    "\"\"\"\n",
    "\n",
    "fast,slow = head,head\n",
    "while fast and fast.next:\n",
    "    slow = slow.next\n",
    "    fast = fast.next.next\n",
    "    if slow == fast:\n",
    "        return True\n",
    "return False\n",
    "\n",
    "\"\"\""
   ]
  },
  {
   "cell_type": "markdown",
   "metadata": {},
   "source": [
    "## Trees"
   ]
  },
  {
   "cell_type": "markdown",
   "metadata": {},
   "source": [
    "### Tries\n",
    "\n",
    "* Want to be able to insert a word in O(1)\n",
    "* Search for word O(1)\n",
    "* Search for a prefix O(1)"
   ]
  },
  {
   "cell_type": "code",
   "execution_count": null,
   "metadata": {},
   "outputs": [],
   "source": []
  },
  {
   "cell_type": "markdown",
   "metadata": {},
   "source": [
    "## *Graphs*"
   ]
  },
  {
   "cell_type": "markdown",
   "metadata": {},
   "source": [
    "#### *Adjaceny List DFS*"
   ]
  },
  {
   "cell_type": "code",
   "execution_count": 2,
   "metadata": {},
   "outputs": [],
   "source": [
    "def dfs(node,target,adjList,visit):\n",
    "    # path from node to target\n",
    "\n",
    "    if node in visit:\n",
    "        return 0\n",
    "    \n",
    "    if node == target:\n",
    "        return 1\n",
    "    \n",
    "    count = 0\n",
    "    visit.add(node)\n",
    "    for neighbor in adjList[node]:\n",
    "        count += dfs(neighbor,target,adjList,visit)\n",
    "    visit.remove(node)\n",
    "\n",
    "    return count"
   ]
  },
  {
   "cell_type": "code",
   "execution_count": null,
   "metadata": {},
   "outputs": [],
   "source": [
    "# T: O(V + E)\n",
    "# S: O(V)\n",
    "def bfs(node,target,adjList):\n",
    "\n",
    "    length = 0\n",
    "    visit = set()\n",
    "    visit.add(node)\n",
    "    queue = deque()\n",
    "    queue.append(node)\n",
    "\n",
    "    while queue:\n",
    "        for i in range(len(queue)):\n",
    "            curr = queue.popleft()\n",
    "            if curr == target:\n",
    "                return length\n",
    "\n",
    "            for neighbor in adjList[curr]:\n",
    "                if neighbor not in visit:\n",
    "                    visit.add(neighbor)\n",
    "                    queue.append(neighbor)\n",
    "        length+=1\n",
    "    return length"
   ]
  },
  {
   "cell_type": "code",
   "execution_count": null,
   "metadata": {},
   "outputs": [],
   "source": [
    "edges = []\n",
    "adjList = {}\n",
    "for src,dst in edges:\n",
    "    if src not in adjList:\n",
    "        adjList[src] = []\n",
    "    if dst not in adjList:\n",
    "        adjList[dst] = []\n",
    "    adjList[src].append(dst)\n",
    "    "
   ]
  },
  {
   "cell_type": "markdown",
   "metadata": {},
   "source": [
    "### Dijkstra's Algorithm\n",
    "\n",
    "Algorithm to solve the shortest path on a weighted graph. It is a modified version of BFS. Must have postive weights.\n",
    "\n",
    "T: O((E + V) logV)\n",
    "S: O(V + E)"
   ]
  },
  {
   "cell_type": "code",
   "execution_count": 1,
   "metadata": {},
   "outputs": [],
   "source": [
    "def shortest_path(edges,n,src):\n",
    "\n",
    "    # put adj list together\n",
    "    adj = {}\n",
    "    for i in range(1,n+1):\n",
    "        adj[i] = []\n",
    "\n",
    "    for s,d,w in edges:\n",
    "        adj[s].append((d,w))\n",
    "\n",
    "    shortest = {}\n",
    "    minHeap = [(0,src)] # cost,src\n",
    "\n",
    "    # actual algo\n",
    "    while minHeap:\n",
    "        w1,n1 = heapq.heappop(minHeap)\n",
    "        if n1 in shortest:\n",
    "            continue #  skip if already visited\n",
    "        shortest[n1] = w1\n",
    "        for n2,w2 in adj[n1]: # go through neighbors\n",
    "            if n2 not in shortest:\n",
    "                heapq.heappush(minHeap,(w1+w2,n2))\n",
    "    return shortest\n"
   ]
  },
  {
   "cell_type": "markdown",
   "metadata": {},
   "source": [
    "### Topological Sort\n",
    "\n",
    "Find a valid \"sorting\" of a direct,acyclical graph (DAG)."
   ]
  },
  {
   "cell_type": "code",
   "execution_count": null,
   "metadata": {},
   "outputs": [],
   "source": [
    "def topologicalSort(edges,n):\n",
    "    # create adj list\n",
    "    adj = {}\n",
    "    for i in range(1,n+1):\n",
    "        adj[i] = []\n",
    "    for src,dst in edges:\n",
    "        adj[src].append(dst)\n",
    "    # top sort\n",
    "    topSort = []\n",
    "    visit = set()\n",
    "    for i in range(1,n+1):\n",
    "        dfs(i,adj,visit,topSort)\n",
    "    topSort.reverse()\n",
    "    return topSort\n",
    "\n",
    "def dfs(src,adj,visit,topSort):\n",
    "\n",
    "    if src in visit:\n",
    "        return True\n",
    "    visit.add(src)\n",
    "    for nei in adj[src]:\n",
    "        dfs(nei,adj,visit,topSort)\n",
    "    topSort.append(src) # post order append\n",
    "    "
   ]
  },
  {
   "cell_type": "markdown",
   "metadata": {},
   "source": [
    "## Prims Algorithm\n",
    "Find a minimum spanning tree for a graph - very similar to dijktras\n"
   ]
  },
  {
   "cell_type": "code",
   "execution_count": null,
   "metadata": {},
   "outputs": [],
   "source": [
    "def mst(edges,n):\n",
    "\n",
    "    # create adj list\n",
    "    adj = {}\n",
    "    for i in range(1,n+1):\n",
    "        adj[i] = []\n",
    "\n",
    "    for src,dst,w in edges:\n",
    "        adj[src].append([dst,w])\n",
    "        adj[dst].append([src,w])\n",
    "    \n",
    "    minHeap = []\n",
    "    for nei,w in adj[1]:\n",
    "        heapq.heappush(minHeap,[w,1,nei])\n",
    "    \n",
    "    mst = []\n",
    "    visit = set()\n",
    "    visit.add(1)\n",
    "\n",
    "    while minHeap:\n",
    "        w,src,node = heapq.heappop(minHeap)\n",
    "        if node in visit:\n",
    "            continue\n",
    "        \n",
    "        mst.append([src,node])\n",
    "        visit.add(node)\n",
    "        for nei,w in adj[node]:\n",
    "            if nei not in visit:\n",
    "                heapq.heappush(minHeap,[w,node,nei])\n",
    "    return mst"
   ]
  },
  {
   "cell_type": "code",
   "execution_count": null,
   "metadata": {},
   "outputs": [],
   "source": [
    "MX = 10**9\n",
    "prime = [True] * (MX + 1)\n",
    "prime[0] = prime[1] = False  # 0 and 1 are not primes\n",
    "\n",
    "for i in range(2, int(MX**0.5) + 1):\n",
    "    if prime[i]:\n",
    "        for j in range(i * i, MX + 1, i):\n",
    "            prime[j] = False"
   ]
  },
  {
   "cell_type": "code",
   "execution_count": null,
   "metadata": {},
   "outputs": [],
   "source": []
  }
 ],
 "metadata": {
  "kernelspec": {
   "display_name": "Python 3",
   "language": "python",
   "name": "python3"
  },
  "language_info": {
   "codemirror_mode": {
    "name": "ipython",
    "version": 3
   },
   "file_extension": ".py",
   "mimetype": "text/x-python",
   "name": "python",
   "nbconvert_exporter": "python",
   "pygments_lexer": "ipython3",
   "version": "3.12.3"
  }
 },
 "nbformat": 4,
 "nbformat_minor": 2
}
