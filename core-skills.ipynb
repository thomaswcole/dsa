{
 "cells": [
  {
   "cell_type": "markdown",
   "metadata": {},
   "source": [
    "Neetcode core skills implementation  \n",
    "Thomas Cole\n"
   ]
  },
  {
   "cell_type": "markdown",
   "metadata": {},
   "source": [
    "# Data Structures"
   ]
  },
  {
   "cell_type": "code",
   "execution_count": 7,
   "metadata": {},
   "outputs": [],
   "source": [
    "def recursive_sum(arr):\n",
    "    if not arr:\n",
    "        return 0\n",
    "    return arr[0] + recursive_sum(arr[1:])\n",
    "\n",
    "def recursive_len(arr):\n",
    "    if not arr:\n",
    "        return 0\n",
    "    return 1 + recursive_len(arr[1:])"
   ]
  },
  {
   "cell_type": "code",
   "execution_count": 8,
   "metadata": {},
   "outputs": [
    {
     "data": {
      "text/plain": [
       "6"
      ]
     },
     "execution_count": 8,
     "metadata": {},
     "output_type": "execute_result"
    }
   ],
   "source": [
    "recursive_sum([1,2,3])"
   ]
  },
  {
   "cell_type": "code",
   "execution_count": 9,
   "metadata": {},
   "outputs": [
    {
     "data": {
      "text/plain": [
       "3"
      ]
     },
     "execution_count": 9,
     "metadata": {},
     "output_type": "execute_result"
    }
   ],
   "source": [
    "recursive_len([1,2,3])"
   ]
  },
  {
   "cell_type": "markdown",
   "metadata": {},
   "source": [
    "### Dynamic Array"
   ]
  },
  {
   "cell_type": "code",
   "execution_count": 2,
   "metadata": {},
   "outputs": [],
   "source": [
    "class DynamicArray:\n",
    "    \n",
    "    def __init__(self, capacity: int):\n",
    "        self.capacity = capacity\n",
    "        self.size = 0\n",
    "        self.arr = [None]*self.capacity\n",
    "\n",
    "\n",
    "    def get(self, i: int) -> int:\n",
    "        return self.arr[i]\n",
    "        \n",
    "\n",
    "    def set(self, i: int, n: int) -> None:\n",
    "        self.arr[i] = n\n",
    "\n",
    "\n",
    "    def pushback(self, n: int) -> None:\n",
    "        if self.size == self.capacity:\n",
    "            self.resize()\n",
    "        self.arr[self.size] = n\n",
    "        self.size += 1\n",
    "\n",
    "\n",
    "    def popback(self) -> int:\n",
    "        if self.size > 0:\n",
    "            self.size -= 1\n",
    "        return self.arr[self.size]\n",
    "\n",
    "    def resize(self) -> None:\n",
    "        self.capacity = 2*self.capacity\n",
    "        new_arr = [None]*self.capacity\n",
    "        for i in range(self.size):\n",
    "            new_arr[i] = self.arr[i]\n",
    "        self.arr = new_arr\n",
    "\n",
    "\n",
    "\n",
    "    def getSize(self) -> int:\n",
    "        return self.size\n",
    "        \n",
    "    \n",
    "    def getCapacity(self) -> int:\n",
    "        return self.capacity"
   ]
  },
  {
   "cell_type": "code",
   "execution_count": 3,
   "metadata": {},
   "outputs": [
    {
     "name": "stdout",
     "output_type": "stream",
     "text": [
      "1\n"
     ]
    }
   ],
   "source": [
    "a =  DynamicArray(10)\n",
    "a.pushback(1)\n",
    "print(a.get(0))"
   ]
  },
  {
   "cell_type": "markdown",
   "metadata": {},
   "source": [
    "## Singly Linked List"
   ]
  },
  {
   "cell_type": "code",
   "execution_count": 5,
   "metadata": {},
   "outputs": [],
   "source": [
    "# Singly Linked List Node\n",
    "class ListNode:\n",
    "    def __init__(self, val, next_node=None):\n",
    "        self.val = val\n",
    "        self.next = next_node\n",
    "\n",
    "# Implementation for Singly Linked List\n",
    "class LinkedList:\n",
    "    def __init__(self):\n",
    "        # Init the list with a 'dummy' node which makes \n",
    "        # removing a node from the beginning of list easier.\n",
    "        self.head = ListNode(-1)\n",
    "        self.tail = self.head\n",
    "    \n",
    "    def get(self, index: int) -> int:\n",
    "        curr = self.head.next\n",
    "        i = 0\n",
    "        while curr:\n",
    "            if i == index:\n",
    "                return curr.val\n",
    "            i += 1\n",
    "            curr = curr.next\n",
    "        return -1  # Index out of bounds or list is empty\n",
    "\n",
    "    def insertHead(self, val: int) -> None:\n",
    "        new_node = ListNode(val)\n",
    "        new_node.next = self.head.next\n",
    "        self.head.next = new_node\n",
    "        if not new_node.next:  # If list was empty before insertion\n",
    "            self.tail = new_node\n",
    "\n",
    "    def insertTail(self, val: int) -> None:\n",
    "        self.tail.next = ListNode(val)\n",
    "        self.tail = self.tail.next\n",
    "\n",
    "    def remove(self, index: int) -> bool:\n",
    "        i = 0\n",
    "        curr = self.head\n",
    "        while i < index and curr:\n",
    "            i += 1\n",
    "            curr = curr.next\n",
    "        \n",
    "        # Remove the node ahead of curr\n",
    "        if curr and curr.next:\n",
    "            if curr.next == self.tail:\n",
    "                self.tail = curr\n",
    "            curr.next = curr.next.next\n",
    "            return True\n",
    "        return False\n",
    "\n",
    "    def getValues(self) -> list[int]:\n",
    "        curr = self.head.next\n",
    "        res = []\n",
    "        while curr:\n",
    "            res.append(curr.val)\n",
    "            curr = curr.next\n",
    "        return res"
   ]
  },
  {
   "cell_type": "markdown",
   "metadata": {},
   "source": [
    "## Queue"
   ]
  },
  {
   "cell_type": "code",
   "execution_count": 6,
   "metadata": {},
   "outputs": [],
   "source": [
    "class Deque:\n",
    "    \n",
    "    def __init__(self):\n",
    "        self.queue = []\n",
    "        self.size = 0\n",
    "\n",
    "\n",
    "    def isEmpty(self) -> bool:\n",
    "        return self.size == 0\n",
    "        \n",
    "\n",
    "    def append(self, value: int) -> None:\n",
    "        self.queue.append(value)\n",
    "        self.size += 1\n",
    "        \n",
    "\n",
    "    def appendleft(self, value: int) -> None:\n",
    "        self.queue.insert(0,value)\n",
    "        self.size += 1\n",
    "        \n",
    "\n",
    "    def pop(self) -> int:\n",
    "        if self.size != 0:\n",
    "            self.size -=1\n",
    "            return self.queue.pop()\n",
    "        return -1\n",
    "        \n",
    "\n",
    "    def popleft(self) -> int:\n",
    "        if self.size != 0:\n",
    "            self.size -= 1\n",
    "            return self.queue.pop(0)\n",
    "        return -1"
   ]
  },
  {
   "cell_type": "code",
   "execution_count": null,
   "metadata": {},
   "outputs": [],
   "source": []
  },
  {
   "cell_type": "markdown",
   "metadata": {},
   "source": [
    "# Sorting Algorithms"
   ]
  },
  {
   "cell_type": "markdown",
   "metadata": {},
   "source": [
    "## Insertion/Selection Sort\n",
    "\n",
    "Time Complexity O(n^2)  \n",
    "Worst Case: Reverse Sorted Array\n",
    "\n",
    "Notes: the algorithm is stable, i.e. it will preserve relative order \n",
    "\n",
    "**Process**\n",
    "\n",
    "We run through all the elements and keep swapping elements next to the element, if the element next to it is less than it. \n",
    "\n",
    "We place any element in it's correct position."
   ]
  },
  {
   "cell_type": "code",
   "execution_count": 12,
   "metadata": {},
   "outputs": [],
   "source": [
    "def insertionSort(arr):\n",
    "    \n",
    "    for i in range(1,len(arr)):\n",
    "\n",
    "        j = i-1 # neighbor to i\n",
    "\n",
    "        while (j>=0 and arr[j+1] < arr[j]):\n",
    "\n",
    "            arr[j+1],arr[j] = arr[j],arr[j+1]\n",
    "\n",
    "            j-=1 # keep moving backwards"
   ]
  },
  {
   "cell_type": "code",
   "execution_count": 13,
   "metadata": {},
   "outputs": [
    {
     "name": "stdout",
     "output_type": "stream",
     "text": [
      "[1, 2, 2, 3, 5]\n"
     ]
    }
   ],
   "source": [
    "arr = [2,1,5,2,3]\n",
    "insertionSort(arr)\n",
    "print(arr)"
   ]
  },
  {
   "cell_type": "markdown",
   "metadata": {},
   "source": [
    "## Merge Sort\n",
    "\n",
    "Time Complexity: O(nlogn)  \n",
    "Worst Case: ---  \n",
    "Stable: Yes  \n",
    "\n",
    "**Process**  \n",
    "Idea is to break up sorting of the original array into sorting smaller arrays.\n",
    "We continue to split the array in half and then re-piece it together in sorted order."
   ]
  },
  {
   "cell_type": "code",
   "execution_count": 31,
   "metadata": {},
   "outputs": [],
   "source": [
    "def merge(arr,start,mid,end):\n",
    "    L = arr[start:mid+1]\n",
    "    R = arr[mid+1:end+1]\n",
    "    print(L,R)\n",
    "    i = 0\n",
    "    j = 0\n",
    "    k = start\n",
    "\n",
    "    # Merge Combined Parts\n",
    "    while i < len(L) and j < len(R):\n",
    "        if L[i] < R[j]:\n",
    "            arr[k] = L[i]\n",
    "            i+=1\n",
    "        else:\n",
    "            arr[k] = R[j]\n",
    "            j+=1\n",
    "        k += 1\n",
    "\n",
    "    # One will have remaining elements\n",
    "\n",
    "    # Left Remaining\n",
    "    while i < len(L):\n",
    "        arr[k] = L[i]\n",
    "        i+=1\n",
    "        k+=1\n",
    "    \n",
    "    # Right Remaining\n",
    "    while j < len(R):\n",
    "        arr[k] = R[j]\n",
    "        j+=1\n",
    "        k+=1\n",
    "\n",
    "def mergeSort(arr,start,end):\n",
    "\n",
    "    # When we get to only one element left\n",
    "    if (end - start + 1 <= 1):\n",
    "        return arr\n",
    "    \n",
    "    # Recursive Split\n",
    "    mid = (start + end) // 2\n",
    "    mergeSort(arr,start,mid)\n",
    "    mergeSort(arr,mid+1,end)\n",
    "\n",
    "    merge(arr,start,mid,end)\n",
    "    return arr\n"
   ]
  },
  {
   "cell_type": "code",
   "execution_count": 32,
   "metadata": {},
   "outputs": [
    {
     "name": "stdout",
     "output_type": "stream",
     "text": [
      "[2] [1]\n",
      "[1, 2] [5]\n",
      "[2] [3]\n",
      "[2, 3] []\n",
      "[1, 2, 5] [2, 3]\n",
      "[1, 2, 2, 3, 5]\n"
     ]
    }
   ],
   "source": [
    "arr = [2,1,5,2,3]\n",
    "mergeSort(arr,start = 0,end = len(arr))\n",
    "print(arr)"
   ]
  },
  {
   "cell_type": "markdown",
   "metadata": {},
   "source": [
    "## Quicksort\n",
    "\n",
    "Generally O(nlogn)  \n",
    "Worst Case: O(n^2) - if the array is already sorted.\n",
    "Stable: No  \n",
    "\n",
    "**Process**  \n",
    "Similar to merge sort but instead of splitting the array in two we use a pivot value.\n",
    "\n",
    "We put values less than the pivot in the left side, anything greater than it on the right side.\n",
    "\n",
    "In every partition, every value in the left side will be less than every value in the right partition.\n"
   ]
  },
  {
   "cell_type": "code",
   "execution_count": 36,
   "metadata": {},
   "outputs": [],
   "source": [
    "def quickSort(arr,start,end):\n",
    "    if (end-start+1) <= 1:\n",
    "        return arr\n",
    "    \n",
    "    # pick right element as pivot\n",
    "    pivot = arr[end]\n",
    "    left = start\n",
    "\n",
    "    for i in range(start,end):\n",
    "        if arr[i] < pivot:\n",
    "            arr[left],arr[i] = arr[i],arr[left]\n",
    "            left += 1\n",
    "    \n",
    "    # move pivot in-between left and right sides of the array\n",
    "    arr[end] = arr[left]\n",
    "    arr[left] = pivot\n",
    "\n",
    "    # run quick sort - exclude left value\n",
    "    quickSort(arr,start,left - 1)\n",
    "    quickSort(arr,left+1,end)\n",
    "\n",
    "    return arr"
   ]
  },
  {
   "cell_type": "code",
   "execution_count": 37,
   "metadata": {},
   "outputs": [
    {
     "name": "stdout",
     "output_type": "stream",
     "text": [
      "[1, 2, 2, 3, 5]\n"
     ]
    }
   ],
   "source": [
    "arr = [2,1,5,2,3]\n",
    "arr = quickSort(arr,start = 0,end = len(arr)-1)\n",
    "print(arr)"
   ]
  },
  {
   "cell_type": "markdown",
   "metadata": {},
   "source": [
    "## Bucket Sort\n",
    "\n",
    "Time Complexity: O(n)  \n",
    "Stable: No\n",
    "\n",
    "We can only use this if all the values that we are sorting are within a finite range.\n",
    "\n",
    "We count the values and then overwrite it."
   ]
  },
  {
   "cell_type": "code",
   "execution_count": 5,
   "metadata": {},
   "outputs": [],
   "source": [
    "def bucketSort(arr):\n",
    "\n",
    "    # Count Numbers\n",
    "    counts = [0]*len(arr)\n",
    "    for n in arr:\n",
    "        counts[n] += 1\n",
    "\n",
    "    i = 0\n",
    "    for n in range(len(counts)):\n",
    "        for j in range(counts[n]):\n",
    "            arr[i] = n\n",
    "            i+=1"
   ]
  },
  {
   "cell_type": "code",
   "execution_count": 6,
   "metadata": {},
   "outputs": [
    {
     "name": "stdout",
     "output_type": "stream",
     "text": [
      "[1, 1, 2, 2, 4, 5]\n"
     ]
    }
   ],
   "source": [
    "arr = [1,2,1,4,5,2]\n",
    "bucketSort(arr)\n",
    "print(arr)"
   ]
  },
  {
   "cell_type": "markdown",
   "metadata": {},
   "source": [
    "## Binary Search\n",
    "\n",
    "Search for some value in an array typically.\n",
    "\n",
    "If we are searching for some unknown target, use a helper function."
   ]
  },
  {
   "cell_type": "code",
   "execution_count": 10,
   "metadata": {},
   "outputs": [],
   "source": [
    "def BinarySearch(arr,target):\n",
    "    # assume sorted array\n",
    "    l = 0\n",
    "    r = len(arr) - 1\n",
    "\n",
    "    while l <= r:\n",
    "\n",
    "        mid = (l+r) // 2\n",
    "        \n",
    "        if arr[mid] < target:\n",
    "            l = mid + 1\n",
    "        elif arr[mid] > target:\n",
    "            r = mid - 1\n",
    "        else:\n",
    "            return mid\n",
    "        \n",
    "    return l\n"
   ]
  },
  {
   "cell_type": "code",
   "execution_count": 11,
   "metadata": {},
   "outputs": [
    {
     "name": "stdout",
     "output_type": "stream",
     "text": [
      "2\n"
     ]
    }
   ],
   "source": [
    "arr = [1,2,3,4,5,8]\n",
    "print(BinarySearch(arr,3))"
   ]
  },
  {
   "cell_type": "markdown",
   "metadata": {},
   "source": [
    "### *Linked List*"
   ]
  },
  {
   "cell_type": "markdown",
   "metadata": {},
   "source": [
    "*Reverse Linked List*"
   ]
  },
  {
   "cell_type": "code",
   "execution_count": null,
   "metadata": {},
   "outputs": [],
   "source": [
    "def reverse(head):\n",
    "\n",
    "    prev = None\n",
    "    curr = head\n",
    "    while curr:\n",
    "        temp = curr.next\n",
    "        curr.next = prev\n",
    "        prev = curr\n",
    "        curr = temp\n",
    "\n",
    "    return prev"
   ]
  },
  {
   "cell_type": "markdown",
   "metadata": {},
   "source": [
    "## Trees"
   ]
  },
  {
   "cell_type": "markdown",
   "metadata": {},
   "source": [
    "### Binary Trees"
   ]
  },
  {
   "cell_type": "markdown",
   "metadata": {},
   "source": [
    "*Reverse Binary Tree*"
   ]
  },
  {
   "cell_type": "markdown",
   "metadata": {},
   "source": [
    "To reverse a binary tree, we basically just recursively switch all left and right children.\n",
    "\n"
   ]
  },
  {
   "cell_type": "code",
   "execution_count": null,
   "metadata": {},
   "outputs": [],
   "source": [
    "def invertTree(root):\n",
    "\n",
    "    if not root:\n",
    "        return None\n",
    "    \n",
    "    tmp = root.left\n",
    "    root.left = root.right\n",
    "    root.right = tmp\n",
    "\n",
    "    invertTree(root.left)\n",
    "    invertTree(root.right)\n",
    "\n",
    "    return root\n",
    "\n"
   ]
  },
  {
   "cell_type": "markdown",
   "metadata": {},
   "source": [
    "*Max Depth of Binary Tree*"
   ]
  },
  {
   "cell_type": "markdown",
   "metadata": {},
   "source": [
    "Depth: Length of Longest Path Root to Node  \n",
    "Height: Length of Longest Path Leaf to Node"
   ]
  },
  {
   "cell_type": "code",
   "execution_count": null,
   "metadata": {},
   "outputs": [],
   "source": [
    "# 1. Recursive DFS\n",
    "\n",
    "def recursiveDFS(root):\n",
    "\n",
    "    if not root:\n",
    "        return 0\n",
    "    \n",
    "    return 1 + max(recursiveDFS(root.left),recursiveDFS(root.right))\n",
    "\n",
    "# 2. Iterative DFS (stack)\n",
    "\n",
    "def iterativeDFS(root):\n",
    "    if not root:\n",
    "        return 0\n",
    "    \n",
    "    stack = [[root,1]] # (node,depth)\n",
    "    res = 1\n",
    "    while stack:\n",
    "        node,depth = stack.pop()\n",
    "\n",
    "        if node:\n",
    "            res = max(res,depth)\n",
    "            stack.append([node.left,depth+1])\n",
    "            stack.append([node.right,depth+1])\n",
    "    return res \n",
    "\n",
    "\n",
    "# 3. Iterative BFS (queue)\n",
    "\n",
    "def iterativeBFS(root):\n",
    "    if not root:\n",
    "        return 0\n",
    "    \n",
    "    level = 0\n",
    "    q = Deque([root]) # USE A QUEUE!!!\n",
    "    while q:\n",
    "\n",
    "        for i in range(len(q)):\n",
    "            node = q.popleft()\n",
    "            if node.left:\n",
    "                q.append(node.left)\n",
    "            \n",
    "            if node.right:\n",
    "                q.append(node.right)\n",
    "        level += 1\n",
    "\n",
    "    return level "
   ]
  },
  {
   "cell_type": "markdown",
   "metadata": {},
   "source": [
    "*Same Tree*"
   ]
  },
  {
   "cell_type": "code",
   "execution_count": null,
   "metadata": {},
   "outputs": [],
   "source": [
    "def isSameTree(s,t):\n",
    "\n",
    "    # if both are null then True\n",
    "    if not s and not t:\n",
    "        return True\n",
    "    \n",
    "    # If one is null but not the other then False\n",
    "    if not s or not t:\n",
    "        return False\n",
    "    \n",
    "    # Compare Val\n",
    "    if s.val != t.val:\n",
    "        return False\n",
    "    \n",
    "    # Check Left and Right Trees.\n",
    "    return isSameTree(s.left,t.left) and isSameTree(s.right,t.right)"
   ]
  },
  {
   "cell_type": "markdown",
   "metadata": {},
   "source": [
    "#### *Binary Search Tree*"
   ]
  },
  {
   "cell_type": "markdown",
   "metadata": {},
   "source": [
    "A binary search tree is a tree where for every node, any children to its right are greater than the roots value and anything to the left and less than the roots value."
   ]
  },
  {
   "cell_type": "markdown",
   "metadata": {},
   "source": []
  },
  {
   "cell_type": "markdown",
   "metadata": {},
   "source": [
    "## **Dynamic Programming**"
   ]
  },
  {
   "cell_type": "markdown",
   "metadata": {},
   "source": [
    "Solutions that can be solved recursively can be \"enchanced\" or made more efficient through dynamic programming, which involves caching already computed results."
   ]
  },
  {
   "cell_type": "markdown",
   "metadata": {},
   "source": [
    "### **1-D DP**"
   ]
  },
  {
   "cell_type": "markdown",
   "metadata": {},
   "source": [
    "Our solution space is 1d, ie a 1D array, which is why its a 1d dp problem."
   ]
  },
  {
   "cell_type": "code",
   "execution_count": 3,
   "metadata": {},
   "outputs": [
    {
     "name": "stdout",
     "output_type": "stream",
     "text": [
      "5\n"
     ]
    }
   ],
   "source": []
  },
  {
   "cell_type": "markdown",
   "metadata": {},
   "source": []
  }
 ],
 "metadata": {
  "kernelspec": {
   "display_name": "Python 3",
   "language": "python",
   "name": "python3"
  },
  "language_info": {
   "codemirror_mode": {
    "name": "ipython",
    "version": 3
   },
   "file_extension": ".py",
   "mimetype": "text/x-python",
   "name": "python",
   "nbconvert_exporter": "python",
   "pygments_lexer": "ipython3",
   "version": "3.12.3"
  }
 },
 "nbformat": 4,
 "nbformat_minor": 2
}
